{
 "cells": [
  {
   "cell_type": "markdown",
   "metadata": {},
   "source": [
    "\n",
    "## EXERCICE 4 : Utilisation de Pandas et sklearn pour l'analyse de données réelles\n",
    "\n"
   ]
  },
  {
   "cell_type": "code",
   "execution_count": null,
   "metadata": {},
   "outputs": [],
   "source": [
    "import pandas\n",
    "import numpy as np\n",
    "import matplotlib.pyplot as plt\n",
    "from sklearn import preprocessing\n"
   ]
  },
  {
   "cell_type": "markdown",
   "metadata": {},
   "source": [
    "### <span style=\"color:blue\">QUESTIONS 1</span> :\n",
    "\n",
    "#### <span style=\"color:blue\">QUESTION 1.1</span> :\n",
    "\n",
    "Utiliser la fonction *pandas.read_csv* avec des options pertinentes pour charger le fichier *RealMedicalData.csv*. On remarquera que le separateur dans le fichier csv est ';' et que les décimales sont représentées par des virgules et non des points. Il est important de remarquer qu'un *pandas dataframe*  sera retourné, et non un *numpy array*. Cette classe contient les valeurs d'un tableau multidimensionel mais aussi par exemple le nom des lignes et colonnes, tout comme dans les *dataframes* de *R*.\n"
   ]
  },
  {
   "cell_type": "code",
   "execution_count": null,
   "metadata": {},
   "outputs": [],
   "source": [
    "#..."
   ]
  },
  {
   "cell_type": "markdown",
   "metadata": {},
   "source": [
    "\n",
    "#### <span style=\"color:blue\">QUESTION 1.2</span> :\n",
    "\n",
    "Extraire deux numpy.arrays X et y des données. Cela permettra de faire par la suite de la regression avec scikit-learn. Nous allons en effet essayer d'expliquer *'Disease progression'* avec les autres variables. Ce sera alors la colonne qui contient y. Les autres colonnes contiendront les données de X.\n"
   ]
  },
  {
   "cell_type": "code",
   "execution_count": null,
   "metadata": {},
   "outputs": [],
   "source": [
    "#...\n"
   ]
  },
  {
   "cell_type": "markdown",
   "metadata": {},
   "source": [
    "\n",
    "#### <span style=\"color:blue\">QUESTION 1.3</span> :\n",
    "\n",
    "Une fois X et y extraits, centrer et réduire X. La fonction sklearn.preprocessing.scale pourra etre utilisée.\n"
   ]
  },
  {
   "cell_type": "code",
   "execution_count": null,
   "metadata": {},
   "outputs": [],
   "source": [
    "#...\n"
   ]
  },
  {
   "cell_type": "markdown",
   "metadata": {},
   "source": [
    "\n",
    "### <span style=\"color:blue\">QUESTIONS 2</span> :\n",
    "\n",
    "#### <span style=\"color:blue\">QUESTION 2.1</span> :\n",
    "\n",
    "Mettre en lien X et y à l'aide de la régression lineaire multiple avec une pénalisation Lasso.\n"
   ]
  },
  {
   "cell_type": "code",
   "execution_count": null,
   "metadata": {},
   "outputs": [],
   "source": [
    "#..."
   ]
  },
  {
   "cell_type": "markdown",
   "metadata": {},
   "source": [
    "\n",
    "#### <span style=\"color:blue\">QUESTION 1.2</span> :\n",
    "\n",
    "Extraire deux numpy.arrays X et y des données. Cela permettra de faire par la suite de la regression avec scikit-learn. Nous allons en effet essayer d'expliquer *'Disease progression'* avec les autres variables. Ce sera alors la colonne qui contient y. Les autres colonnes contiendront les données de X.\n"
   ]
  },
  {
   "cell_type": "code",
   "execution_count": null,
   "metadata": {},
   "outputs": [],
   "source": [
    "#..."
   ]
  },
  {
   "cell_type": "markdown",
   "metadata": {},
   "source": [
    "\n",
    "#### <span style=\"color:blue\">QUESTION 1.3</span> :\n",
    "\n",
    "Une fois X et y extraits, centrer et réduire X. La fonction sklearn.preprocessing.scale pourra etre utilisée.\n"
   ]
  },
  {
   "cell_type": "code",
   "execution_count": null,
   "metadata": {},
   "outputs": [],
   "source": [
    "#..."
   ]
  }
 ],
 "metadata": {
  "anaconda-cloud": {},
  "kernelspec": {
   "display_name": "Python 3",
   "language": "python",
   "name": "python3"
  },
  "language_info": {
   "codemirror_mode": {
    "name": "ipython",
    "version": 3
   },
   "file_extension": ".py",
   "mimetype": "text/x-python",
   "name": "python",
   "nbconvert_exporter": "python",
   "pygments_lexer": "ipython3",
   "version": "3.8.8"
  },
  "latex_envs": {
   "LaTeX_envs_menu_present": true,
   "autoclose": false,
   "autocomplete": true,
   "bibliofile": "biblio.bib",
   "cite_by": "apalike",
   "current_citInitial": 1,
   "eqLabelWithNumbers": true,
   "eqNumInitial": 1,
   "hotkeys": {
    "equation": "Ctrl-E",
    "itemize": "Ctrl-I"
   },
   "labels_anchors": false,
   "latex_user_defs": false,
   "report_style_numbering": false,
   "user_envs_cfg": false
  },
  "toc": {
   "base_numbering": 1,
   "nav_menu": {},
   "number_sections": true,
   "sideBar": true,
   "skip_h1_title": false,
   "title_cell": "Table of Contents",
   "title_sidebar": "Contents",
   "toc_cell": false,
   "toc_position": {},
   "toc_section_display": true,
   "toc_window_display": false
  }
 },
 "nbformat": 4,
 "nbformat_minor": 4
}
