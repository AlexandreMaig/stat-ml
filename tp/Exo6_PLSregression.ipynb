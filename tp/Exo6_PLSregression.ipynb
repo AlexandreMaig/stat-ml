{
 "cells": [
  {
   "cell_type": "markdown",
   "metadata": {},
   "source": [
    "## EXERCICE 6 : PLS\n",
    "\n",
    "Dans cet exercice, nous allons effectuer deux analyses PLS, la première avec une réponse univariée et la seconde avec une réponse multivariée. Un lien avec la régression linéaire multiple sera établi.\n",
    "\n",
    "\n",
    "Inspiré de http://scikit-learn.org/stable/auto_examples/cross_decomposition/plot_compare_cross_decomposition.html\n"
   ]
  },
  {
   "cell_type": "code",
   "execution_count": null,
   "metadata": {},
   "outputs": [],
   "source": [
    "import numpy as np\n",
    "import matplotlib.pyplot as plt\n",
    "from sklearn.cross_decomposition import PLSRegression\n"
   ]
  },
  {
   "cell_type": "markdown",
   "metadata": {},
   "source": [
    "## Partie 1 : régression PLS avec réponse univariée (PLS1)\n"
   ]
  },
  {
   "cell_type": "code",
   "execution_count": null,
   "metadata": {},
   "outputs": [],
   "source": [
    "#Generation de donnees\n",
    "n = 1000\n",
    "p = 10\n",
    "X = np.random.normal(size=n * p).reshape((n, p))\n",
    "y = X[:, 0] + 2 * X[:, 1] + 0.5 * X[:, 2]*X[:, 3] + np.random.normal(size=n) + 5\n"
   ]
  },
  {
   "cell_type": "markdown",
   "metadata": {},
   "source": [
    "### <span style=\"color:blue\">QUESTION 1</span> :\n",
    "\n",
    "- Comment sont construites les données simulées ? \n",
    "- Que vous attendez-vous alors à voir dans la PLS, en particulier dans le 1er vecteur propre lié du projecteur de X ?\n",
    "\n",
    "### <span style=\"color:blue\">REPONSE 1</span> :\n",
    "\n",
    "..."
   ]
  },
  {
   "cell_type": "code",
   "execution_count": null,
   "metadata": {},
   "outputs": [],
   "source": [
    "\n",
    "pls1 = PLSRegression(n_components=5)\n",
    "pls1.fit(X, y)\n",
    "\n"
   ]
  },
  {
   "cell_type": "markdown",
   "metadata": {},
   "source": [
    "### <span style=\"color:blue\">QUESTIONS 2</span> :\n",
    "\n",
    "#### <span style=\"color:blue\">QUESTION 2.1</span> :\n",
    "\n",
    "Quelle est la signification de *pls1.x_rotations_*. Représentez ses valeurs et interprétez les.\n",
    "\n",
    "\n"
   ]
  },
  {
   "cell_type": "markdown",
   "metadata": {},
   "source": [
    "#### <span style=\"color:blue\">REPONSE 2.1</span> :\n",
    "\n",
    "..."
   ]
  },
  {
   "cell_type": "code",
   "execution_count": null,
   "metadata": {},
   "outputs": [],
   "source": [
    "\n",
    "#...\n"
   ]
  },
  {
   "cell_type": "markdown",
   "metadata": {},
   "source": [
    "#### <span style=\"color:blue\">QUESTION 2.2</span> :\n",
    "\n",
    "Que renvoi *'pls1.predict(X)'* ?  Comparez ce résultat à *y*.\n",
    "\n",
    "#### <span style=\"color:blue\">REPONSE 2.2</span> :"
   ]
  },
  {
   "cell_type": "code",
   "execution_count": null,
   "metadata": {},
   "outputs": [],
   "source": [
    "#..."
   ]
  },
  {
   "cell_type": "markdown",
   "metadata": {},
   "source": [
    "### <span style=\"color:blue\">QUESTION 3</span> :\n",
    "\n",
    "Est-ce qu'une régression linéaire multiple avec sélection de modèle conduirait à des résultats similaires ?\n",
    "\n",
    "### <span style=\"color:blue\">REPONSE 3</span> :\n",
    "\n",
    "..."
   ]
  },
  {
   "cell_type": "markdown",
   "metadata": {},
   "source": [
    "\n",
    "\n",
    "\n",
    "## Partie 2 : régression PLS avec réponse multivariée (PLS2)\n"
   ]
  },
  {
   "cell_type": "code",
   "execution_count": null,
   "metadata": {},
   "outputs": [],
   "source": [
    "q = 3\n",
    "p = 10\n",
    "X = np.random.normal(size=n * p).reshape((n, p))\n",
    "B = np.array([[1., 2.] + [0] * (p - 2)] * q)\n",
    "B[1,0]/=2.\n",
    "B[2,1]/=2.\n",
    "Y = np.dot(X, B.transpose()) + np.random.normal(size=n * q).reshape((n, q))/2\n",
    "\n",
    "n = 1000\n",
    "\n",
    "pls2 = PLSRegression(n_components=5)\n",
    "pls2.fit(X, Y)\n"
   ]
  },
  {
   "cell_type": "markdown",
   "metadata": {},
   "source": [
    "### <span style=\"color:blue\">QUESTION 4</span> :\n",
    "\n",
    "Comment sont construites les données simulées ? \n",
    "\n",
    "### <span style=\"color:blue\">REPONSE 4</span> :\n",
    "\n",
    "..."
   ]
  },
  {
   "cell_type": "markdown",
   "metadata": {},
   "source": [
    "### <span style=\"color:blue\">QUESTION 5</span> :\n",
    "\n",
    "Prédisez maintenant Y à l'aide de X. Qu'observez vous ?\n",
    "\n",
    "### <span style=\"color:blue\">REPONSE 5</span> :"
   ]
  },
  {
   "cell_type": "code",
   "execution_count": null,
   "metadata": {},
   "outputs": [],
   "source": [
    "#..."
   ]
  },
  {
   "cell_type": "markdown",
   "metadata": {},
   "source": [
    "..."
   ]
  },
  {
   "cell_type": "code",
   "execution_count": null,
   "metadata": {},
   "outputs": [],
   "source": []
  }
 ],
 "metadata": {
  "anaconda-cloud": {},
  "kernelspec": {
   "display_name": "Python 3",
   "language": "python",
   "name": "python3"
  },
  "language_info": {
   "codemirror_mode": {
    "name": "ipython",
    "version": 3
   },
   "file_extension": ".py",
   "mimetype": "text/x-python",
   "name": "python",
   "nbconvert_exporter": "python",
   "pygments_lexer": "ipython3",
   "version": "3.8.3"
  }
 },
 "nbformat": 4,
 "nbformat_minor": 4
}
